{
 "cells": [
  {
   "cell_type": "markdown",
   "metadata": {},
   "source": [
    "### MINST-Digit Recognizer"
   ]
  },
  {
   "cell_type": "markdown",
   "metadata": {},
   "source": [
    "This Notebook is for only training the model, testing model accuracy with hyperparameters, this is not for EDA."
   ]
  },
  {
   "cell_type": "code",
   "execution_count": 1,
   "metadata": {},
   "outputs": [],
   "source": [
    "import pandas as pd\n",
    "import numpy as np\n",
    "import torch\n",
    "\n",
    "import os\n",
    "\n",
    "import torch.nn as nn   \n",
    "import torch.nn.functional as F\n",
    "from torchvision  import datasets \n",
    "from torch.utils.data import Dataset,DataLoader ,ConcatDataset\n",
    "from torchvision import transforms\n",
    "import matplotlib.pyplot as plt\n",
    "\n",
    "from torch.utils.data import random_split, SubsetRandomSampler\n"
   ]
  },
  {
   "cell_type": "markdown",
   "metadata": {},
   "source": [
    "Data is downloaded from Kaggle Dataset, link :https://www.kaggle.com/c/digit-recognizer/data <br>\n",
    "`train.csv` and `test.csv` are extracted to path `notebooks\\data` path"
   ]
  },
  {
   "cell_type": "markdown",
   "metadata": {},
   "source": [
    "Loading Dataset"
   ]
  },
  {
   "cell_type": "code",
   "execution_count": 2,
   "metadata": {},
   "outputs": [],
   "source": [
    "train_df = pd.read_csv(os.path.join(\"notebooks\",\"data\",\"train.csv\"))\n",
    "test_df = pd.read_csv(os.path.join(\"notebooks\",\"data\",\"test.csv\"))\n"
   ]
  },
  {
   "cell_type": "code",
   "execution_count": 3,
   "metadata": {},
   "outputs": [],
   "source": [
    "image_size = 28\n"
   ]
  },
  {
   "cell_type": "code",
   "execution_count": 4,
   "metadata": {},
   "outputs": [
    {
     "data": {
      "text/html": [
       "<div>\n",
       "<style scoped>\n",
       "    .dataframe tbody tr th:only-of-type {\n",
       "        vertical-align: middle;\n",
       "    }\n",
       "\n",
       "    .dataframe tbody tr th {\n",
       "        vertical-align: top;\n",
       "    }\n",
       "\n",
       "    .dataframe thead th {\n",
       "        text-align: right;\n",
       "    }\n",
       "</style>\n",
       "<table border=\"1\" class=\"dataframe\">\n",
       "  <thead>\n",
       "    <tr style=\"text-align: right;\">\n",
       "      <th></th>\n",
       "      <th>label</th>\n",
       "      <th>pixel0</th>\n",
       "      <th>pixel1</th>\n",
       "      <th>pixel2</th>\n",
       "      <th>pixel3</th>\n",
       "      <th>pixel4</th>\n",
       "      <th>pixel5</th>\n",
       "      <th>pixel6</th>\n",
       "      <th>pixel7</th>\n",
       "      <th>pixel8</th>\n",
       "      <th>...</th>\n",
       "      <th>pixel774</th>\n",
       "      <th>pixel775</th>\n",
       "      <th>pixel776</th>\n",
       "      <th>pixel777</th>\n",
       "      <th>pixel778</th>\n",
       "      <th>pixel779</th>\n",
       "      <th>pixel780</th>\n",
       "      <th>pixel781</th>\n",
       "      <th>pixel782</th>\n",
       "      <th>pixel783</th>\n",
       "    </tr>\n",
       "  </thead>\n",
       "  <tbody>\n",
       "    <tr>\n",
       "      <th>0</th>\n",
       "      <td>1</td>\n",
       "      <td>0</td>\n",
       "      <td>0</td>\n",
       "      <td>0</td>\n",
       "      <td>0</td>\n",
       "      <td>0</td>\n",
       "      <td>0</td>\n",
       "      <td>0</td>\n",
       "      <td>0</td>\n",
       "      <td>0</td>\n",
       "      <td>...</td>\n",
       "      <td>0</td>\n",
       "      <td>0</td>\n",
       "      <td>0</td>\n",
       "      <td>0</td>\n",
       "      <td>0</td>\n",
       "      <td>0</td>\n",
       "      <td>0</td>\n",
       "      <td>0</td>\n",
       "      <td>0</td>\n",
       "      <td>0</td>\n",
       "    </tr>\n",
       "    <tr>\n",
       "      <th>1</th>\n",
       "      <td>0</td>\n",
       "      <td>0</td>\n",
       "      <td>0</td>\n",
       "      <td>0</td>\n",
       "      <td>0</td>\n",
       "      <td>0</td>\n",
       "      <td>0</td>\n",
       "      <td>0</td>\n",
       "      <td>0</td>\n",
       "      <td>0</td>\n",
       "      <td>...</td>\n",
       "      <td>0</td>\n",
       "      <td>0</td>\n",
       "      <td>0</td>\n",
       "      <td>0</td>\n",
       "      <td>0</td>\n",
       "      <td>0</td>\n",
       "      <td>0</td>\n",
       "      <td>0</td>\n",
       "      <td>0</td>\n",
       "      <td>0</td>\n",
       "    </tr>\n",
       "    <tr>\n",
       "      <th>2</th>\n",
       "      <td>1</td>\n",
       "      <td>0</td>\n",
       "      <td>0</td>\n",
       "      <td>0</td>\n",
       "      <td>0</td>\n",
       "      <td>0</td>\n",
       "      <td>0</td>\n",
       "      <td>0</td>\n",
       "      <td>0</td>\n",
       "      <td>0</td>\n",
       "      <td>...</td>\n",
       "      <td>0</td>\n",
       "      <td>0</td>\n",
       "      <td>0</td>\n",
       "      <td>0</td>\n",
       "      <td>0</td>\n",
       "      <td>0</td>\n",
       "      <td>0</td>\n",
       "      <td>0</td>\n",
       "      <td>0</td>\n",
       "      <td>0</td>\n",
       "    </tr>\n",
       "    <tr>\n",
       "      <th>3</th>\n",
       "      <td>4</td>\n",
       "      <td>0</td>\n",
       "      <td>0</td>\n",
       "      <td>0</td>\n",
       "      <td>0</td>\n",
       "      <td>0</td>\n",
       "      <td>0</td>\n",
       "      <td>0</td>\n",
       "      <td>0</td>\n",
       "      <td>0</td>\n",
       "      <td>...</td>\n",
       "      <td>0</td>\n",
       "      <td>0</td>\n",
       "      <td>0</td>\n",
       "      <td>0</td>\n",
       "      <td>0</td>\n",
       "      <td>0</td>\n",
       "      <td>0</td>\n",
       "      <td>0</td>\n",
       "      <td>0</td>\n",
       "      <td>0</td>\n",
       "    </tr>\n",
       "    <tr>\n",
       "      <th>4</th>\n",
       "      <td>0</td>\n",
       "      <td>0</td>\n",
       "      <td>0</td>\n",
       "      <td>0</td>\n",
       "      <td>0</td>\n",
       "      <td>0</td>\n",
       "      <td>0</td>\n",
       "      <td>0</td>\n",
       "      <td>0</td>\n",
       "      <td>0</td>\n",
       "      <td>...</td>\n",
       "      <td>0</td>\n",
       "      <td>0</td>\n",
       "      <td>0</td>\n",
       "      <td>0</td>\n",
       "      <td>0</td>\n",
       "      <td>0</td>\n",
       "      <td>0</td>\n",
       "      <td>0</td>\n",
       "      <td>0</td>\n",
       "      <td>0</td>\n",
       "    </tr>\n",
       "  </tbody>\n",
       "</table>\n",
       "<p>5 rows × 785 columns</p>\n",
       "</div>"
      ],
      "text/plain": [
       "   label  pixel0  pixel1  pixel2  pixel3  pixel4  pixel5  pixel6  pixel7  \\\n",
       "0      1       0       0       0       0       0       0       0       0   \n",
       "1      0       0       0       0       0       0       0       0       0   \n",
       "2      1       0       0       0       0       0       0       0       0   \n",
       "3      4       0       0       0       0       0       0       0       0   \n",
       "4      0       0       0       0       0       0       0       0       0   \n",
       "\n",
       "   pixel8  ...  pixel774  pixel775  pixel776  pixel777  pixel778  pixel779  \\\n",
       "0       0  ...         0         0         0         0         0         0   \n",
       "1       0  ...         0         0         0         0         0         0   \n",
       "2       0  ...         0         0         0         0         0         0   \n",
       "3       0  ...         0         0         0         0         0         0   \n",
       "4       0  ...         0         0         0         0         0         0   \n",
       "\n",
       "   pixel780  pixel781  pixel782  pixel783  \n",
       "0         0         0         0         0  \n",
       "1         0         0         0         0  \n",
       "2         0         0         0         0  \n",
       "3         0         0         0         0  \n",
       "4         0         0         0         0  \n",
       "\n",
       "[5 rows x 785 columns]"
      ]
     },
     "execution_count": 4,
     "metadata": {},
     "output_type": "execute_result"
    }
   ],
   "source": [
    "train_df.head(5)\n"
   ]
  },
  {
   "cell_type": "code",
   "execution_count": 5,
   "metadata": {},
   "outputs": [
    {
     "data": {
      "text/plain": [
       "array([1, 0, 4, 7, 3, 5, 8, 9, 2, 6])"
      ]
     },
     "execution_count": 5,
     "metadata": {},
     "output_type": "execute_result"
    }
   ],
   "source": [
    "train_df.label.unique()\n"
   ]
  },
  {
   "cell_type": "markdown",
   "metadata": {},
   "source": [
    "Plotting Images"
   ]
  },
  {
   "cell_type": "code",
   "execution_count": 6,
   "metadata": {},
   "outputs": [
    {
     "data": {
      "image/png": "[encoded data removed]",
      "text/plain": [
       "<Figure size 720x576 with 12 Axes>"
      ]
     },
     "metadata": {
      "needs_background": "light"
     },
     "output_type": "display_data"
    }
   ],
   "source": [
    "nrows = 3\n",
    "ncols = 4\n",
    "fig, axes = plt.subplots(nrows,ncols,figsize=(10,8))\n",
    "i=0\n",
    "\n",
    "for row in range(nrows):\n",
    "    for col in range(ncols):\n",
    "        axes[row][col].imshow(train_df.iloc[i,1:].values.reshape(28,28),cmap='gray')\n",
    "        axes[row][col].set_title(train_df.iloc[i,0])\n",
    "        axes[row][col].axis('off')\n",
    "        i+=1\n",
    "\n",
    "plt.suptitle('Data Samples', fontsize=30)\n",
    "plt.show()\n"
   ]
  },
  {
   "cell_type": "markdown",
   "metadata": {},
   "source": [
    "Custom Dataset Class"
   ]
  },
  {
   "cell_type": "code",
   "execution_count": 7,
   "metadata": {},
   "outputs": [],
   "source": [
    "class DatasetMNIST(torch.utils.data.Dataset):\n",
    "    def __init__(self, data, transform=None):\n",
    "        self.data = data\n",
    "        self.transform = transform\n",
    "        \n",
    "    def __len__(self):\n",
    "        return len(self.data)\n",
    "    \n",
    "    def __getitem__(self, index):\n",
    "        item = self.data.iloc[index]\n",
    "                \n",
    "        image = item[1:].values.astype(np.uint8).reshape((28, 28))\n",
    "        label = item[0]\n",
    "        \n",
    "        if self.transform is not None:\n",
    "            image = self.transform(image)\n",
    "            \n",
    "        return image, label\n"
   ]
  },
  {
   "cell_type": "code",
   "execution_count": 8,
   "metadata": {},
   "outputs": [
    {
     "name": "stdout",
     "output_type": "stream",
     "text": [
      "Length train: 35700\n",
      "Length valid: 6300\n"
     ]
    }
   ],
   "source": [
    "BATCH_SIZE = 100\n",
    "VALID_SIZE = 0.15 # percentage of data for validation\n",
    "\n",
    "transform_train = transforms.Compose([\n",
    "    transforms.ToPILImage(),\n",
    "    transforms.ToTensor(),\n",
    "    transforms.Normalize(mean=(0.5,), std=(0.5,))\n",
    "])\n",
    "\n",
    "transform_valid = transforms.Compose([\n",
    "    transforms.ToPILImage(),\n",
    "    transforms.ToTensor(),\n",
    "    transforms.Normalize(mean=(0.5,), std=(0.5,))\n",
    "])\n",
    "\n",
    "# Creating datasets for training and validation\n",
    "train_data = DatasetMNIST(train_df, transform=transform_train)\n",
    "valid_data = DatasetMNIST(train_df, transform=transform_valid)\n",
    "\n",
    "# Shuffling data and choosing data that will be used for training and validation\n",
    "num_train = len(train_data)\n",
    "indices = list(range(num_train))\n",
    "np.random.shuffle(indices)\n",
    "split = int(np.floor(VALID_SIZE * num_train))\n",
    "train_idx, valid_idx = indices[split:], indices[:split]\n",
    "\n",
    "train_sampler = SubsetRandomSampler(train_idx)\n",
    "valid_sampler = SubsetRandomSampler(valid_idx)\n",
    "\n",
    "train_loader = torch.utils.data.DataLoader(train_data, batch_size=BATCH_SIZE, sampler=train_sampler)\n",
    "valid_loader = torch.utils.data.DataLoader(valid_data, batch_size=BATCH_SIZE, sampler=valid_sampler)\n",
    "\n",
    "print(f\"Length train: {len(train_idx)}\")\n",
    "print(f\"Length valid: {len(valid_idx)}\")\n"
   ]
  },
  {
   "cell_type": "code",
   "execution_count": 9,
   "metadata": {},
   "outputs": [
    {
     "name": "stdout",
     "output_type": "stream",
     "text": [
      "False\n"
     ]
    }
   ],
   "source": [
    "# As we are deploying on server that does not have GPU, setting use_cuda to default False, disbale model to use GPU\n",
    "use_cuda = False\n",
    "print(use_cuda)\n"
   ]
  },
  {
   "cell_type": "code",
   "execution_count": 142,
   "metadata": {},
   "outputs": [],
   "source": [
    "class Model(nn.Module):\n",
    "    def __init__(self, in_channels =1 ,out_channels = 10):\n",
    "        super().__init__()\n",
    "        self.c1 = nn.Conv2d(in_channels=in_channels,out_channels=8,kernel_size=3,stride =1,padding=2)\n",
    "        self.b1 = nn.BatchNorm2d(8)\n",
    "\n",
    "        self.c2 = nn.Conv2d(in_channels = 8,out_channels=32,kernel_size=3,padding=2,stride=1)\n",
    "        self.b2 = nn.BatchNorm2d(32)\n",
    "\n",
    "        self.c3 = nn.Conv2d(in_channels=32,out_channels=64,kernel_size=3,stride=1,padding=2)\n",
    "        self.b3 = nn.BatchNorm2d(64)\n",
    "\n",
    "        self.l1 = nn.Linear(64*5*5,1024)\n",
    "        self.l2 = nn.Linear(1024,512)\n",
    "\n",
    "        self.l4 = nn.Linear(512,128)\n",
    "\n",
    "        self.l6 = nn.Linear(128,32)\n",
    "        self.final = nn.Linear(32,out_channels)\n",
    "        \n",
    "\n",
    "    def forward(self,x):\n",
    "        nodes =F.relu(self.b1(self.c1(x)))\n",
    "        nodes = F.max_pool2d(nodes,2,2) # 1,14,14\n",
    "    \n",
    "        nodes = F.relu(self.b2(self.c2(nodes))) \n",
    "        nodes = F.max_pool2d(nodes,2,2) #1,8,8\n",
    "        nodes = F.dropout(nodes,0.3)\n",
    "        nodes = F.relu(self.b3(self.c3(nodes)))\n",
    "        nodes = F.max_pool2d(nodes,2,2) # 1,5,5\n",
    "        nodes = F.dropout(nodes,0.4)\n",
    "        nodes = F.relu(self.l1(nodes.reshape(-1,128*5*5)))\n",
    "        nodes = F.relu(self.l2(nodes))\n",
    "        # nodes = F.relu(self.l3(nodes))\n",
    "        nodes = F.dropout(nodes)\n",
    "        nodes = F.relu(self.l4(nodes))\n",
    "        nodes = self.final(F.relu(self.l6(nodes)))#F.relu(self.l5(nodes)))))\n",
    "        return nodes\n"
   ]
  },
  {
   "cell_type": "code",
   "execution_count": 143,
   "metadata": {},
   "outputs": [],
   "source": [
    "# class Net(nn.Module):\n",
    "#     def __init__(self):\n",
    "#         super(Net, self).__init__()\n",
    "        \n",
    "#         self.conv1 = nn.Sequential(\n",
    "#             nn.Conv2d(1, 32, 3, padding=1),\n",
    "#             nn.ReLU(),\n",
    "#             nn.BatchNorm2d(32),\n",
    "#             nn.Conv2d(32, 32, 3, stride=2, padding=1),\n",
    "#             nn.ReLU(),\n",
    "#             nn.BatchNorm2d(32),\n",
    "#             nn.MaxPool2d(2, 2),\n",
    "#             nn.Dropout(0.25)\n",
    "#         )\n",
    "        \n",
    "#         self.conv2 = nn.Sequential(\n",
    "#             nn.Conv2d(32, 64, 3, padding=1),\n",
    "#             nn.ReLU(),\n",
    "#             nn.BatchNorm2d(64),\n",
    "#             nn.Conv2d(64, 64, 3, stride=2, padding=1),\n",
    "#             nn.ReLU(),\n",
    "#             nn.BatchNorm2d(64),\n",
    "#             nn.MaxPool2d(2, 2),\n",
    "#             nn.Dropout(0.25)\n",
    "#         )\n",
    "        \n",
    "#         self.conv3 = nn.Sequential(\n",
    "#             nn.Conv2d(64, 128, 3, padding=1),\n",
    "#             nn.ReLU(),\n",
    "#             nn.BatchNorm2d(128),\n",
    "#             nn.MaxPool2d(2, 2),\n",
    "#             nn.Dropout(0.25)\n",
    "#         )\n",
    "        \n",
    "#         self.fc = nn.Sequential(\n",
    "#             nn.Linear(128, 10),\n",
    "#         )\n",
    "                \n",
    "        \n",
    "#     def forward(self, x):\n",
    "#         x = self.conv1(x)\n",
    "#         x = self.conv2(x)\n",
    "#         x = self.conv3(x)\n",
    "        \n",
    "#         x = x.view(x.size(0), -1)\n",
    "#         return self.fc(x)\n"
   ]
  },
  {
   "cell_type": "code",
   "execution_count": 144,
   "metadata": {},
   "outputs": [
    {
     "name": "stdout",
     "output_type": "stream",
     "text": [
      "Model(\n",
      "  (c1): Conv2d(1, 8, kernel_size=(3, 3), stride=(1, 1), padding=(2, 2))\n",
      "  (b1): BatchNorm2d(8, eps=1e-05, momentum=0.1, affine=True, track_running_stats=True)\n",
      "  (c2): Conv2d(8, 64, kernel_size=(3, 3), stride=(1, 1), padding=(2, 2))\n",
      "  (b2): BatchNorm2d(64, eps=1e-05, momentum=0.1, affine=True, track_running_stats=True)\n",
      "  (c3): Conv2d(64, 128, kernel_size=(3, 3), stride=(1, 1), padding=(2, 2))\n",
      "  (b3): BatchNorm2d(128, eps=1e-05, momentum=0.1, affine=True, track_running_stats=True)\n",
      "  (l1): Linear(in_features=3200, out_features=1024, bias=True)\n",
      "  (l2): Linear(in_features=1024, out_features=512, bias=True)\n",
      "  (l4): Linear(in_features=512, out_features=128, bias=True)\n",
      "  (l6): Linear(in_features=128, out_features=32, bias=True)\n",
      "  (final): Linear(in_features=32, out_features=10, bias=True)\n",
      ")\n",
      "--------------------\n",
      "Total Number of Parameters : 3951754 \n",
      "--------------------\n"
     ]
    }
   ],
   "source": [
    "model = Model()\n",
    "print(model)\n",
    "\n",
    "LEARNING_RATE = 0.001\n",
    "\n",
    "criterion = nn.CrossEntropyLoss()\n",
    "optimizer = torch.optim.SGD(model.parameters(), lr=LEARNING_RATE)\n",
    "\n",
    "train_on_gpu = False\n",
    "\n",
    "size = 0\n",
    "for layer in model.parameters():\n",
    "    size +=torch.numel(layer)\n",
    "\n",
    "print(\"--------------------\\nTotal Number of Parameters :\",size,'\\n--------------------')\n"
   ]
  },
  {
   "cell_type": "code",
   "execution_count": 145,
   "metadata": {},
   "outputs": [],
   "source": [
    "class EarlyStopper:\n",
    "    def __init__(self, patience=1, min_delta=0):\n",
    "        self.patience = patience\n",
    "        self.min_delta = min_delta\n",
    "        self.counter = 0\n",
    "        self.min_validation_loss = float('inf')\n",
    "\n",
    "    def __call__(self, validation_loss):\n",
    "        if validation_loss < self.min_validation_loss:\n",
    "            self.min_validation_loss = validation_loss\n",
    "            self.counter = 0\n",
    "        elif validation_loss > (self.min_validation_loss + self.min_delta):\n",
    "            self.counter += 1\n",
    "            if self.counter >= self.patience:\n",
    "                return True\n",
    "        return False\n"
   ]
  },
  {
   "cell_type": "code",
   "execution_count": null,
   "metadata": {},
   "outputs": [],
   "source": [
    "def tr\n"
   ]
  },
  {
   "cell_type": "code",
   "execution_count": 146,
   "metadata": {},
   "outputs": [
    {
     "name": "stdout",
     "output_type": "stream",
     "text": [
      "Epoch: 1/150..  Training Loss: 2.304..  Validation Loss: 2.303..  Test Accuracy: 0.109\n",
      "Detected network improvement, saving current model\n",
      "Epoch: 2/150..  Training Loss: 2.302..  Validation Loss: 2.301..  Test Accuracy: 0.113\n",
      "Detected network improvement, saving current model\n",
      "Epoch: 3/150..  Training Loss: 2.301..  Validation Loss: 2.299..  Test Accuracy: 0.117\n",
      "Detected network improvement, saving current model\n",
      "Epoch: 4/150..  Training Loss: 2.299..  Validation Loss: 2.298..  Test Accuracy: 0.123\n",
      "Detected network improvement, saving current model\n",
      "Epoch: 5/150..  Training Loss: 2.297..  Validation Loss: 2.295..  Test Accuracy: 0.133\n",
      "Detected network improvement, saving current model\n",
      "Epoch: 6/150..  Training Loss: 2.294..  Validation Loss: 2.292..  Test Accuracy: 0.150\n",
      "Detected network improvement, saving current model\n",
      "Epoch: 7/150..  Training Loss: 2.291..  Validation Loss: 2.287..  Test Accuracy: 0.161\n",
      "Detected network improvement, saving current model\n",
      "Epoch: 8/150..  Training Loss: 2.286..  Validation Loss: 2.283..  Test Accuracy: 0.159\n",
      "Detected network improvement, saving current model\n",
      "Epoch: 9/150..  Training Loss: 2.280..  Validation Loss: 2.275..  Test Accuracy: 0.172\n",
      "Detected network improvement, saving current model\n",
      "Epoch: 10/150..  Training Loss: 2.272..  Validation Loss: 2.266..  Test Accuracy: 0.190\n",
      "Detected network improvement, saving current model\n",
      "Epoch: 11/150..  Training Loss: 2.262..  Validation Loss: 2.253..  Test Accuracy: 0.204\n",
      "Detected network improvement, saving current model\n",
      "Epoch: 12/150..  Training Loss: 2.246..  Validation Loss: 2.234..  Test Accuracy: 0.217\n",
      "Detected network improvement, saving current model\n",
      "Epoch: 13/150..  Training Loss: 2.223..  Validation Loss: 2.205..  Test Accuracy: 0.251\n",
      "Detected network improvement, saving current model\n",
      "Epoch: 14/150..  Training Loss: 2.187..  Validation Loss: 2.161..  Test Accuracy: 0.278\n",
      "Detected network improvement, saving current model\n",
      "Epoch: 15/150..  Training Loss: 2.138..  Validation Loss: 2.101..  Test Accuracy: 0.318\n",
      "Detected network improvement, saving current model\n",
      "Epoch: 16/150..  Training Loss: 2.070..  Validation Loss: 2.022..  Test Accuracy: 0.355\n",
      "Detected network improvement, saving current model\n",
      "Epoch: 17/150..  Training Loss: 1.986..  Validation Loss: 1.925..  Test Accuracy: 0.399\n",
      "Detected network improvement, saving current model\n",
      "Epoch: 18/150..  Training Loss: 1.876..  Validation Loss: 1.798..  Test Accuracy: 0.456\n",
      "Detected network improvement, saving current model\n",
      "Epoch: 19/150..  Training Loss: 1.725..  Validation Loss: 1.627..  Test Accuracy: 0.504\n",
      "Detected network improvement, saving current model\n",
      "Epoch: 20/150..  Training Loss: 1.535..  Validation Loss: 1.430..  Test Accuracy: 0.552\n",
      "Detected network improvement, saving current model\n",
      "Epoch: 21/150..  Training Loss: 1.335..  Validation Loss: 1.230..  Test Accuracy: 0.606\n",
      "Detected network improvement, saving current model\n",
      "Epoch: 22/150..  Training Loss: 1.154..  Validation Loss: 1.068..  Test Accuracy: 0.637\n",
      "Detected network improvement, saving current model\n",
      "Epoch: 23/150..  Training Loss: 1.002..  Validation Loss: 0.929..  Test Accuracy: 0.691\n",
      "Detected network improvement, saving current model\n",
      "Epoch: 24/150..  Training Loss: 0.882..  Validation Loss: 0.823..  Test Accuracy: 0.730\n",
      "Detected network improvement, saving current model\n",
      "Epoch: 25/150..  Training Loss: 0.787..  Validation Loss: 0.730..  Test Accuracy: 0.762\n",
      "Detected network improvement, saving current model\n",
      "Epoch: 26/150..  Training Loss: 0.703..  Validation Loss: 0.666..  Test Accuracy: 0.782\n",
      "Detected network improvement, saving current model\n",
      "Epoch: 27/150..  Training Loss: 0.633..  Validation Loss: 0.601..  Test Accuracy: 0.802\n",
      "Detected network improvement, saving current model\n",
      "Epoch: 28/150..  Training Loss: 0.574..  Validation Loss: 0.543..  Test Accuracy: 0.820\n",
      "Detected network improvement, saving current model\n",
      "Epoch: 29/150..  Training Loss: 0.522..  Validation Loss: 0.498..  Test Accuracy: 0.839\n",
      "Detected network improvement, saving current model\n",
      "Epoch: 30/150..  Training Loss: 0.483..  Validation Loss: 0.467..  Test Accuracy: 0.847\n",
      "Detected network improvement, saving current model\n",
      "Epoch: 31/150..  Training Loss: 0.450..  Validation Loss: 0.428..  Test Accuracy: 0.859\n",
      "Detected network improvement, saving current model\n",
      "Epoch: 32/150..  Training Loss: 0.424..  Validation Loss: 0.412..  Test Accuracy: 0.868\n",
      "Detected network improvement, saving current model\n",
      "Epoch: 33/150..  Training Loss: 0.399..  Validation Loss: 0.394..  Test Accuracy: 0.877\n",
      "Detected network improvement, saving current model\n",
      "Epoch: 34/150..  Training Loss: 0.381..  Validation Loss: 0.363..  Test Accuracy: 0.890\n",
      "Detected network improvement, saving current model\n",
      "Epoch: 35/150..  Training Loss: 0.355..  Validation Loss: 0.345..  Test Accuracy: 0.891\n",
      "Detected network improvement, saving current model\n",
      "Epoch: 36/150..  Training Loss: 0.343..  Validation Loss: 0.340..  Test Accuracy: 0.891\n",
      "Detected network improvement, saving current model\n",
      "Epoch: 37/150..  Training Loss: 0.325..  Validation Loss: 0.327..  Test Accuracy: 0.895\n",
      "Detected network improvement, saving current model\n",
      "Epoch: 38/150..  Training Loss: 0.316..  Validation Loss: 0.319..  Test Accuracy: 0.901\n",
      "Detected network improvement, saving current model\n",
      "Epoch: 39/150..  Training Loss: 0.304..  Validation Loss: 0.297..  Test Accuracy: 0.906\n",
      "Detected network improvement, saving current model\n",
      "Epoch: 40/150..  Training Loss: 0.297..  Validation Loss: 0.295..  Test Accuracy: 0.909\n",
      "Detected network improvement, saving current model\n",
      "Epoch: 41/150..  Training Loss: 0.281..  Validation Loss: 0.284..  Test Accuracy: 0.913\n",
      "Detected network improvement, saving current model\n",
      "Epoch: 42/150..  Training Loss: 0.281..  Validation Loss: 0.281..  Test Accuracy: 0.914\n",
      "Detected network improvement, saving current model\n",
      "Epoch: 43/150..  Training Loss: 0.270..  Validation Loss: 0.268..  Test Accuracy: 0.919\n",
      "Detected network improvement, saving current model\n",
      "Epoch: 44/150..  Training Loss: 0.257..  Validation Loss: 0.263..  Test Accuracy: 0.917\n",
      "Detected network improvement, saving current model\n",
      "Epoch: 45/150..  Training Loss: 0.256..  Validation Loss: 0.261..  Test Accuracy: 0.920\n",
      "Detected network improvement, saving current model\n",
      "Epoch: 46/150..  Training Loss: 0.253..  Validation Loss: 0.255..  Test Accuracy: 0.921\n",
      "Detected network improvement, saving current model\n",
      "Epoch: 47/150..  Training Loss: 0.244..  Validation Loss: 0.249..  Test Accuracy: 0.921\n",
      "Detected network improvement, saving current model\n",
      "Epoch: 49/150..  Training Loss: 0.232..  Validation Loss: 0.236..  Test Accuracy: 0.927\n",
      "Detected network improvement, saving current model\n",
      "Epoch: 50/150..  Training Loss: 0.227..  Validation Loss: 0.228..  Test Accuracy: 0.928\n",
      "Detected network improvement, saving current model\n"
     ]
    }
   ],
   "source": [
    "epochs = 150\n",
    "valid_loss_min = np.Inf\n",
    "train_losses, valid_losses = [], []\n",
    "history_accuracy = []\n",
    "\n",
    "for e in range(1, epochs+1):\n",
    "    running_loss = 0\n",
    "\n",
    "    for images, labels in train_loader:\n",
    "        if train_on_gpu:\n",
    "            images, labels = images.cuda(), labels.cuda()\n",
    "        # Clear the gradients, do this because gradients are accumulated.\n",
    "        optimizer.zero_grad()\n",
    "        \n",
    "        # Forward pass, get our log-probabilities.\n",
    "        ps = model(images)\n",
    "        # Calculate the loss with the logps and the labels.\n",
    "        loss = criterion(ps, labels)\n",
    "        \n",
    "        # Turning loss back.\n",
    "        loss.backward()\n",
    "        \n",
    "        # Take an update step and few the new weights.\n",
    "        optimizer.step()\n",
    "        \n",
    "        running_loss += loss.item()\n",
    "    else:\n",
    "        valid_loss = 0\n",
    "        accuracy = 0\n",
    "        \n",
    "        # Turn off gradients for validation, saves memory and computations.\n",
    "        with torch.no_grad():\n",
    "            model.eval() # change the network to evaluation mode\n",
    "            for images, labels in valid_loader:\n",
    "                if train_on_gpu:\n",
    "                    images, labels = images.cuda(), labels.cuda()\n",
    "                # Forward pass, get our log-probabilities.\n",
    "                #log_ps = model(images)\n",
    "                ps = model(images)\n",
    "                \n",
    "                # Calculating probabilities for each class.\n",
    "                #ps = torch.exp(log_ps)\n",
    "                \n",
    "                # Capturing the class more likely.\n",
    "                _, top_class = ps.topk(1, dim=1)\n",
    "                \n",
    "                # Verifying the prediction with the labels provided.\n",
    "                equals = top_class == labels.view(*top_class.shape)\n",
    "                \n",
    "                valid_loss += criterion(ps, labels)\n",
    "                accuracy += torch.mean(equals.type(torch.FloatTensor))\n",
    "                \n",
    "        model.train() # change the network to training mode\n",
    "        \n",
    "        train_losses.append(running_loss/len(train_loader))\n",
    "        valid_losses.append(valid_loss/len(valid_loader))\n",
    "        history_accuracy.append(accuracy/len(valid_loader))\n",
    "        \n",
    "        network_learned = valid_loss < valid_loss_min\n",
    "\n",
    "        if e == 1 or e % 5 == 0 or network_learned:\n",
    "            print(f\"Epoch: {e}/{epochs}.. \",\n",
    "                  f\"Training Loss: {running_loss/len(train_loader):.3f}.. \",\n",
    "                  f\"Validation Loss: {valid_loss/len(valid_loader):.3f}.. \",\n",
    "                  f\"Test Accuracy: {accuracy/len(valid_loader):.3f}\")\n",
    "        \n",
    "        if network_learned:\n",
    "            valid_loss_min = valid_loss\n",
    "            torch.save(model.state_dict(), 'model_mtl_mnist.pt')\n",
    "            print('Detected network improvement, saving current model')\n"
   ]
  },
  {
   "cell_type": "code",
   "execution_count": 148,
   "metadata": {},
   "outputs": [
    {
     "data": {
      "text/plain": [
       "<All keys matched successfully>"
      ]
     },
     "execution_count": 148,
     "metadata": {},
     "output_type": "execute_result"
    }
   ],
   "source": [
    "model2 = Model()\n",
    "model2.load_state_dict(torch.load('model_mtl_mnist.pt'))\n"
   ]
  },
  {
   "cell_type": "code",
   "execution_count": 149,
   "metadata": {},
   "outputs": [],
   "source": [
    "a,b = next(iter(valid_loader))\n"
   ]
  },
  {
   "cell_type": "code",
   "execution_count": 150,
   "metadata": {},
   "outputs": [],
   "source": [
    "c = a[99]\n",
    "d = b[99]\n"
   ]
  },
  {
   "cell_type": "code",
   "execution_count": 151,
   "metadata": {},
   "outputs": [
    {
     "data": {
      "text/plain": [
       "torch.Size([1, 28, 28])"
      ]
     },
     "execution_count": 151,
     "metadata": {},
     "output_type": "execute_result"
    }
   ],
   "source": [
    "c.shape\n"
   ]
  },
  {
   "cell_type": "code",
   "execution_count": 152,
   "metadata": {},
   "outputs": [],
   "source": [
    "with torch.no_grad():\n",
    "    test = model2(c.reshape(1,1,28,28))\n",
    "    _,top_class = test.topk(1,dim=1)#,sorted=True)\n"
   ]
  },
  {
   "cell_type": "code",
   "execution_count": 153,
   "metadata": {},
   "outputs": [
    {
     "data": {
      "text/plain": [
       "<matplotlib.image.AxesImage at 0x7f4b84bffee0>"
      ]
     },
     "execution_count": 153,
     "metadata": {},
     "output_type": "execute_result"
    },
    {
     "data": {
      "image/png": "[encoded data removed]",
      "text/plain": [
       "<Figure size 432x288 with 1 Axes>"
      ]
     },
     "metadata": {
      "needs_background": "light"
     },
     "output_type": "display_data"
    }
   ],
   "source": [
    "plt.imshow(c.squeeze())\n"
   ]
  },
  {
   "cell_type": "code",
   "execution_count": 154,
   "metadata": {},
   "outputs": [
    {
     "data": {
      "text/plain": [
       "tensor([[3]])"
      ]
     },
     "execution_count": 154,
     "metadata": {},
     "output_type": "execute_result"
    }
   ],
   "source": [
    "top_class\n"
   ]
  },
  {
   "cell_type": "code",
   "execution_count": 105,
   "metadata": {},
   "outputs": [
    {
     "data": {
      "text/plain": [
       "tensor([[ 1.1894, -3.0604, -0.1366,  1.6907,  0.5747, -0.0962, -2.2453,  0.1012,\n",
       "          0.6858,  6.0904]])"
      ]
     },
     "execution_count": 105,
     "metadata": {},
     "output_type": "execute_result"
    }
   ],
   "source": [
    "test\n"
   ]
  },
  {
   "cell_type": "code",
   "execution_count": 99,
   "metadata": {},
   "outputs": [
    {
     "data": {
      "text/plain": [
       "array([[0]])"
      ]
     },
     "execution_count": 99,
     "metadata": {},
     "output_type": "execute_result"
    }
   ],
   "source": [
    "top_class.numpy()\n"
   ]
  },
  {
   "cell_type": "code",
   "execution_count": null,
   "metadata": {},
   "outputs": [],
   "source": []
  },
  {
   "cell_type": "code",
   "execution_count": 212,
   "metadata": {},
   "outputs": [],
   "source": [
    "class EarlyStopper:\n",
    "    def __init__(self, tolerance=5,min_delta=0):\n",
    "        self.tolerance = tolerance\n",
    "        self.min_delta = min_delta\n",
    "        self.counter =0\n",
    "        self.early_stop = False\n",
    "        self.loss = float(\"-inf\")\n",
    "\n",
    "    def __call__(self,loss):\n",
    "        if loss > self.loss:\n",
    "            self.loss = loss\n",
    "            self.counter = 0\n",
    "            self.early_stop = False\n",
    "        \n",
    "        if loss <= self.loss +self.min_delta:\n",
    "            self.counter+=1\n",
    "            self.loss=loss\n",
    "            if self.counter>=self.tolerance:\n",
    "                self.early_stop=True\n"
   ]
  },
  {
   "cell_type": "code",
   "execution_count": 213,
   "metadata": {},
   "outputs": [],
   "source": [
    "stop  =EarlyStopper()\n"
   ]
  },
  {
   "cell_type": "code",
   "execution_count": 216,
   "metadata": {},
   "outputs": [
    {
     "data": {
      "text/plain": [
       "(5.6, 1, False)"
      ]
     },
     "execution_count": 216,
     "metadata": {},
     "output_type": "execute_result"
    }
   ],
   "source": [
    "stop(5.6)\n",
    "stop.loss,stop.counter,stop.early_stop\n"
   ]
  },
  {
   "cell_type": "code",
   "execution_count": 219,
   "metadata": {},
   "outputs": [
    {
     "data": {
      "text/plain": [
       "(5.4, 1, False)"
      ]
     },
     "execution_count": 219,
     "metadata": {},
     "output_type": "execute_result"
    }
   ],
   "source": [
    "stop(5.4)\n",
    "stop.loss,stop.counter,stop.early_stop\n"
   ]
  },
  {
   "cell_type": "code",
   "execution_count": 223,
   "metadata": {},
   "outputs": [
    {
     "data": {
      "text/plain": [
       "(5.2, 5, True)"
      ]
     },
     "execution_count": 223,
     "metadata": {},
     "output_type": "execute_result"
    }
   ],
   "source": [
    "stop(5.2)\n",
    "stop.loss,stop.counter,stop.early_stop\n"
   ]
  },
  {
   "cell_type": "code",
   "execution_count": null,
   "metadata": {},
   "outputs": [],
   "source": []
  },
  {
   "cell_type": "code",
   "execution_count": null,
   "metadata": {},
   "outputs": [],
   "source": []
  }
 ],
 "metadata": {
  "kernelspec": {
   "display_name": "Python 3 (ipykernel)",
   "language": "python",
   "name": "python3"
  },
  "language_info": {
   "codemirror_mode": {
    "name": "ipython",
    "version": 3
   },
   "file_extension": ".py",
   "mimetype": "text/x-python",
   "name": "python",
   "nbconvert_exporter": "python",
   "pygments_lexer": "ipython3",
   "version": "3.10.12"
  }
 },
 "nbformat": 4,
 "nbformat_minor": 2
}
